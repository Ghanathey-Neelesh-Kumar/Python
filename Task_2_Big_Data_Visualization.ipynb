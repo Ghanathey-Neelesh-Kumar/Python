{
  "cells": [
    {
      "cell_type": "markdown",
      "metadata": {
        "id": "view-in-github",
        "colab_type": "text"
      },
      "source": [
        "<a href=\"https://colab.research.google.com/github/Ghanathey-Neelesh-Kumar/Python/blob/main/Task_2_Big_Data_Visualization.ipynb\" target=\"_parent\"><img src=\"https://colab.research.google.com/assets/colab-badge.svg\" alt=\"Open In Colab\"/></a>"
      ]
    },
    {
      "cell_type": "code",
      "source": [
        "# Big Data & Visualization Task 2\n",
        "\n",
        "import pandas as pd\n",
        "\n",
        "# Choosing the filepath into file_path variable\n",
        "file_path = '/content/Voting figures.xlsx'\n",
        "\n",
        "# Reads the Excel file into a DataFrame\n",
        "df = pd.read_excel(file_path)\n",
        "\n",
        "# Display the first few rows to verify\n",
        "print(df.head().to_markdown(index=False, numalign=\"left\", stralign=\"left\"))"
      ],
      "metadata": {
        "colab": {
          "base_uri": "https://localhost:8080/"
        },
        "id": "vO-E5VU2kOeB",
        "outputId": "3ec2d437-caf0-4eeb-d6d8-b93463529394"
      },
      "execution_count": 18,
      "outputs": [
        {
          "output_type": "stream",
          "name": "stdout",
          "text": [
            "| Region   | Area            | Electorate   | ValidVotes   | Remain   | Leave   |\n",
            "|:---------|:----------------|:-------------|:-------------|:---------|:--------|\n",
            "| East     | Peterborough    | 120892       | 87392        | 34176    | 53216   |\n",
            "| East     | Luton           | 127612       | 84481        | 36708    | 47773   |\n",
            "| East     | Southend-on-Sea | 128856       | 93870        | 39348    | 54522   |\n",
            "| East     | Thurrock        | 109897       | 79916        | 22151    | 57765   |\n",
            "| East     | Bedford         | 119530       | 86066        | 41497    | 44569   |\n"
          ]
        }
      ]
    },
    {
      "cell_type": "code",
      "source": [
        "import pandas as pd\n",
        "\n",
        "# Replace with your actual file path if different\n",
        "file_path = '/content/Voting figures.xlsx'\n",
        "\n",
        "# Read the Excel file into a DataFrame\n",
        "df = pd.read_excel(file_path)\n",
        "\n",
        "# Ensure there are no missing values in the relevant columns\n",
        "df['Remain'].fillna(0, inplace=True)\n",
        "df['Electorate'].fillna(1, inplace=True)  # Using 1 to avoid division by zero\n",
        "\n",
        "# Create the new column 'Average Remain' with the proportion calculation\n",
        "df['Average Remain'] = df['Remain'] / df['Electorate']\n",
        "\n",
        "# Display the updated DataFrame\n",
        "print(df.head().to_markdown(index=False, numalign=\"left\", stralign=\"left\"))\n",
        "\n"
      ],
      "metadata": {
        "id": "UIgBcIT5yvyt",
        "colab": {
          "base_uri": "https://localhost:8080/"
        },
        "outputId": "9f31231c-0a96-44e0-99e9-d8f8f968a275"
      },
      "execution_count": 17,
      "outputs": [
        {
          "output_type": "stream",
          "name": "stdout",
          "text": [
            "| Region   | Area            | Electorate   | ValidVotes   | Remain   | Leave   | Average Remain   |\n",
            "|:---------|:----------------|:-------------|:-------------|:---------|:--------|:-----------------|\n",
            "| East     | Peterborough    | 120892       | 87392        | 34176    | 53216   | 0.282699         |\n",
            "| East     | Luton           | 127612       | 84481        | 36708    | 47773   | 0.287653         |\n",
            "| East     | Southend-on-Sea | 128856       | 93870        | 39348    | 54522   | 0.305364         |\n",
            "| East     | Thurrock        | 109897       | 79916        | 22151    | 57765   | 0.201561         |\n",
            "| East     | Bedford         | 119530       | 86066        | 41497    | 44569   | 0.347168         |\n"
          ]
        }
      ]
    },
    {
      "cell_type": "code",
      "source": [
        "import pandas as pd\n",
        "\n",
        "# Replace with your actual file path if different\n",
        "file_path = '/content/Voting figures.xlsx'\n",
        "\n",
        "# Read the Excel file into a DataFrame\n",
        "df = pd.read_excel(file_path)\n",
        "\n",
        "# Ensure there are no missing values in the relevant columns\n",
        "df['Remain'].fillna(0, inplace=True)\n",
        "df['Electorate'].fillna(1, inplace=True)  # Using 1 to avoid division by zero\n",
        "\n",
        "# Create the new column 'Average Remain' with the proportion calculation\n",
        "df['Average Remain'] = df['Remain'] / df['Electorate']\n",
        "\n",
        "# Round the values in the 'Average Remain' column to two decimal places\n",
        "df['Average Remain'] = df['Average Remain'].round(2)\n",
        "\n",
        "# Display the updated DataFrame\n",
        "print(df.head().to_markdown(index=False, numalign=\"left\", stralign=\"left\"))\n",
        "\n",
        "\n"
      ],
      "metadata": {
        "id": "ZI4C6kLT272G",
        "colab": {
          "base_uri": "https://localhost:8080/"
        },
        "outputId": "ddbf4959-691c-4beb-e817-92a616799579"
      },
      "execution_count": null,
      "outputs": [
        {
          "output_type": "stream",
          "name": "stdout",
          "text": [
            "| Region   | Area            | Electorate   | ValidVotes   | Remain   | Leave   | Average Remain   |\n",
            "|:---------|:----------------|:-------------|:-------------|:---------|:--------|:-----------------|\n",
            "| East     | Peterborough    | 120892       | 87392        | 34176    | 53216   | 0.28             |\n",
            "| East     | Luton           | 127612       | 84481        | 36708    | 47773   | 0.29             |\n",
            "| East     | Southend-on-Sea | 128856       | 93870        | 39348    | 54522   | 0.31             |\n",
            "| East     | Thurrock        | 109897       | 79916        | 22151    | 57765   | 0.2              |\n",
            "| East     | Bedford         | 119530       | 86066        | 41497    | 44569   | 0.35             |\n"
          ]
        }
      ]
    },
    {
      "cell_type": "code",
      "source": [
        "# Program to remove Remain Column\n",
        "import pandas as pd\n",
        "\n",
        "# Replace with your actual file path if different\n",
        "file_path = '/content/Voting figures.xlsx'\n",
        "\n",
        "# Read the Excel file into a DataFrame\n",
        "df = pd.read_excel(file_path)\n",
        "\n",
        "# Ensure there are no missing values in the relevant columns\n",
        "df['Remain'].fillna(0, inplace=True)\n",
        "df['Electorate'].fillna(1, inplace=True)  # Using 1 to avoid division by zero\n",
        "\n",
        "# Create the new column 'Average Remain' with the proportion calculation\n",
        "df['Average Remain'] = df['Remain'] / df['Electorate']\n",
        "\n",
        "# Round the values in the 'Average Remain' column to two decimal places\n",
        "df['Average Remain'] = df['Average Remain'].round(2)\n",
        "\n",
        "# Remove the 'Remain' column\n",
        "df.drop(columns=['Remain'], inplace=True)\n",
        "\n",
        "# Display the updated DataFrame\n",
        "print(df.head().to_markdown(index=False, numalign=\"left\", stralign=\"left\"))\n",
        "\n"
      ],
      "metadata": {
        "colab": {
          "base_uri": "https://localhost:8080/"
        },
        "id": "-gJRizBNppR4",
        "outputId": "e40302f9-1af6-4465-d330-600b605542c4"
      },
      "execution_count": null,
      "outputs": [
        {
          "output_type": "stream",
          "name": "stdout",
          "text": [
            "| Region   | Area            | Electorate   | ValidVotes   | Leave   | Average Remain   |\n",
            "|:---------|:----------------|:-------------|:-------------|:--------|:-----------------|\n",
            "| East     | Peterborough    | 120892       | 87392        | 53216   | 0.28             |\n",
            "| East     | Luton           | 127612       | 84481        | 47773   | 0.29             |\n",
            "| East     | Southend-on-Sea | 128856       | 93870        | 54522   | 0.31             |\n",
            "| East     | Thurrock        | 109897       | 79916        | 57765   | 0.2              |\n",
            "| East     | Bedford         | 119530       | 86066        | 44569   | 0.35             |\n"
          ]
        }
      ]
    },
    {
      "cell_type": "code",
      "source": [
        "import pandas as pd\n",
        "\n",
        "# Replace with your actual file path if different\n",
        "file_path = '/content/Voting figures.xlsx'\n",
        "\n",
        "# Read the Excel file into a DataFrame\n",
        "df = pd.read_excel(file_path)\n",
        "\n",
        "# Ensure there are no missing values in the relevant columns\n",
        "df['Remain'].fillna(0, inplace=True)\n",
        "df['Electorate'].fillna(1, inplace=True)  # Using 1 to avoid division by zero\n",
        "\n",
        "# Create the new column 'Average Remain' with the proportion calculation\n",
        "df['Average Remain'] = df['Remain'] / df['Electorate']\n",
        "\n",
        "# Round the values in the 'Average Remain' column to two decimal places\n",
        "df['Average Remain'] = df['Average Remain'].round(2)\n",
        "\n",
        "# Remove the 'Remain' column\n",
        "df.drop(columns=['Remain'], inplace=True)\n",
        "\n",
        "# Create the new column 'Remain Above Average'\n",
        "mean_average_remain = df['Average Remain'].mean()\n",
        "df['Remain Above Average'] = df['Average Remain'].apply(lambda x: 'Yes' if x >= mean_average_remain else 'No')\n",
        "\n",
        "# Display the updated DataFrame\n",
        "print(df.head().to_markdown(index=False, numalign=\"left\", stralign=\"left\"))\n"
      ],
      "metadata": {
        "colab": {
          "base_uri": "https://localhost:8080/"
        },
        "id": "YSUWou9fw4W6",
        "outputId": "bb521f9d-3b60-487e-a06d-0e456ba2da1e"
      },
      "execution_count": null,
      "outputs": [
        {
          "output_type": "stream",
          "name": "stdout",
          "text": [
            "| Region   | Area            | Electorate   | ValidVotes   | Leave   | Average Remain   | Remain Above Average   |\n",
            "|:---------|:----------------|:-------------|:-------------|:--------|:-----------------|:-----------------------|\n",
            "| East     | Peterborough    | 120892       | 87392        | 53216   | 0.28             | No                     |\n",
            "| East     | Luton           | 127612       | 84481        | 47773   | 0.29             | No                     |\n",
            "| East     | Southend-on-Sea | 128856       | 93870        | 54522   | 0.31             | No                     |\n",
            "| East     | Thurrock        | 109897       | 79916        | 57765   | 0.2              | No                     |\n",
            "| East     | Bedford         | 119530       | 86066        | 44569   | 0.35             | Yes                    |\n"
          ]
        }
      ]
    },
    {
      "cell_type": "code",
      "source": [
        "import pandas as pd\n",
        "\n",
        "# Replace with your actual file path if different\n",
        "file_path = '/content/Voting figures.xlsx'\n",
        "\n",
        "# Read the Excel file into a DataFrame\n",
        "df = pd.read_excel(file_path)\n",
        "\n",
        "# Ensure there are no missing values in the relevant columns\n",
        "df['Remain'].fillna(0, inplace=True)\n",
        "df['Electorate'].fillna(1, inplace=True)  # Using 1 to avoid division by zero\n",
        "\n",
        "# Create the new column 'Average Remain' with the proportion calculation\n",
        "df['Average Remain'] = df['Remain'] / df['Electorate']\n",
        "\n",
        "# Round the values in the 'Average Remain' column to two decimal places\n",
        "df['Average Remain'] = df['Average Remain'].round(2)\n",
        "\n",
        "# Remove the 'Remain' column\n",
        "df.drop(columns=['Remain'], inplace=True)\n",
        "\n",
        "# Create the new column 'Remain Above Average'\n",
        "mean_average_remain = df['Average Remain'].mean()\n",
        "df['Remain Above Average'] = df['Average Remain'].apply(lambda x: 'Yes' if x >= mean_average_remain else 'No')\n",
        "\n",
        "# Group by 'Region' and calculate the mean of 'Average Remain' for each region\n",
        "region_mean_remain = df.groupby('Region')['Average Remain'].mean().reset_index()\n",
        "\n",
        "# Display the mean Remain proportion across each region\n",
        "print(region_mean_remain.to_markdown(index=False, numalign=\"left\", stralign=\"left\"))\n"
      ],
      "metadata": {
        "id": "VVMq2tJPxPdV",
        "outputId": "4597952c-5bb5-495c-c1e4-249234da2e12",
        "colab": {
          "base_uri": "https://localhost:8080/"
        }
      },
      "execution_count": null,
      "outputs": [
        {
          "output_type": "stream",
          "name": "stdout",
          "text": [
            "| Region                   | Average Remain   |\n",
            "|:-------------------------|:-----------------|\n",
            "| East                     | 0.32766          |\n",
            "| East Midlands            | 0.30425          |\n",
            "| London                   | 0.423333         |\n",
            "| North East               | 0.28             |\n",
            "| North West               | 0.312308         |\n",
            "| Northern Ireland         | 0.35             |\n",
            "| Scotland                 | 0.418125         |\n",
            "| South East               | 0.368657         |\n",
            "| South West               | 0.370263         |\n",
            "| Wales                    | 0.336364         |\n",
            "| West Midlands            | 0.295667         |\n",
            "| Yorkshire and The Humber | 0.299524         |\n"
          ]
        }
      ]
    }
  ],
  "metadata": {
    "colab": {
      "provenance": [],
      "include_colab_link": true
    },
    "kernelspec": {
      "display_name": "Python 3",
      "name": "python3"
    }
  },
  "nbformat": 4,
  "nbformat_minor": 0
}